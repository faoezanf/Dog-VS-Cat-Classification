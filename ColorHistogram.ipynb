{
 "cells": [
  {
   "cell_type": "markdown",
   "metadata": {},
   "source": [
    "# Sistem Klasifikasi Anjing dan Kucing menggunakan Metode Color Histogram"
   ]
  },
  {
   "cell_type": "markdown",
   "metadata": {},
   "source": [
    "Coded By : Fauzan Firdaus (1301164317) & Nur Azizah Agustina (1301164076)"
   ]
  },
  {
   "cell_type": "markdown",
   "metadata": {},
   "source": [
    "Pertama-tama, lakukan import terlebih dahulu untuk beberapa library yang akan digunakan."
   ]
  },
  {
   "cell_type": "code",
   "execution_count": 1,
   "metadata": {},
   "outputs": [],
   "source": [
    "import cv2\n",
    "import numpy as np\n",
    "import matplotlib.pyplot as plt\n",
    "import matplotlib\n",
    "from sklearn.model_selection import train_test_split\n",
    "from sklearn.ensemble import RandomForestClassifier\n",
    "from sklearn.metrics import accuracy_score\n",
    "import glob"
   ]
  },
  {
   "cell_type": "markdown",
   "metadata": {},
   "source": [
    "Definisikan fungsi 'extractColorHist' untuk melakukan proses ekstraksi fitur dengan metode Color Histogram."
   ]
  },
  {
   "cell_type": "code",
   "execution_count": 2,
   "metadata": {},
   "outputs": [],
   "source": [
    "def extractColorHist(img):\n",
    "    chans = cv2.split(img)\n",
    "    colors = (\"h\", \"s\", \"v\")\n",
    "    features = []\n",
    "\n",
    "    for (chan, color) in zip(chans, colors):\n",
    "        hist = cv2.calcHist([chan], [0], None, [256], [0, 256])\n",
    "        features.extend(hist)\n",
    "    return np.array(features).flatten()"
   ]
  },
  {
   "cell_type": "markdown",
   "metadata": {},
   "source": [
    "Setelah itu, fungsi 'featureExtraction' dibawah ini berfungsi untuk melakukan proses ekstraksi fitur bentuk secara iteratif untuk semua gambar dalam array."
   ]
  },
  {
   "cell_type": "code",
   "execution_count": 4,
   "metadata": {},
   "outputs": [],
   "source": [
    "def featureExtraction(arr):\n",
    "    arr_feature=[]\n",
    "    for i in range(np.shape(arr)[0]):\n",
    "        arr_feature.append(extractColorHist(arr[i]))\n",
    "    return arr_feature"
   ]
  },
  {
   "cell_type": "markdown",
   "metadata": {},
   "source": [
    "Fungsi selanjutnya adalah 'preprocessing' yang berfungsi untuk melakukan tahap preprocessing (membuat gambar dalam channel HSV)."
   ]
  },
  {
   "cell_type": "code",
   "execution_count": 3,
   "metadata": {},
   "outputs": [],
   "source": [
    "def preprocessing(arr):\n",
    "    arr_prep=[]\n",
    "    for i in range(np.shape(arr)[0]):\n",
    "        img=matplotlib.colors.rgb_to_hsv(arr[i])\n",
    "        arr_prep.append(img)\n",
    "    return arr_prep"
   ]
  },
  {
   "cell_type": "markdown",
   "metadata": {},
   "source": [
    "Fungsi yang terakhir adalah 'loadData' yang berfungsi untuk memuat semua gambar/dataset dan labelnya menjadi bentuk array yang berada dalam folder Datasets."
   ]
  },
  {
   "cell_type": "code",
   "execution_count": 5,
   "metadata": {},
   "outputs": [],
   "source": [
    "def loadData(arr,labelobject):\n",
    "    label=[]\n",
    "    strr = \"Datasets/\"+str(labelobject)+\"/*.jpg\"\n",
    "    for file in glob.glob(strr):\n",
    "        img=np.asarray(plt.imread(file))\n",
    "        arr.append(img)\n",
    "        label.append(labelobject)\n",
    "    return arr,label"
   ]
  },
  {
   "cell_type": "markdown",
   "metadata": {},
   "source": [
    "Lakukan proses load gambar dan labelnya"
   ]
  },
  {
   "cell_type": "code",
   "execution_count": 6,
   "metadata": {},
   "outputs": [],
   "source": [
    "cat=[]\n",
    "dog=[]\n",
    "\n",
    "cat,label_cat = loadData(cat,1)\n",
    "dog,label_dog = loadData(dog,2)"
   ]
  },
  {
   "cell_type": "markdown",
   "metadata": {},
   "source": [
    "Gabungkan semua dataset menjadi 1 array"
   ]
  },
  {
   "cell_type": "code",
   "execution_count": 7,
   "metadata": {},
   "outputs": [],
   "source": [
    "combineImage = np.concatenate((cat,dog))\n",
    "combineLabel = np.concatenate((label_cat,label_dog))"
   ]
  },
  {
   "cell_type": "markdown",
   "metadata": {},
   "source": [
    "Pecah dataset menjadi 2 bagian, yaitu data train dan data test. Hal ini dilakukan bertujuan dalam proses memvalidasi dataset."
   ]
  },
  {
   "cell_type": "code",
   "execution_count": 8,
   "metadata": {},
   "outputs": [],
   "source": [
    "X_train, X_test, y_train, y_test = train_test_split(combineImage, combineLabel, test_size=0.2, random_state=42)"
   ]
  },
  {
   "cell_type": "markdown",
   "metadata": {},
   "source": [
    "Lakukan preprocessing terlebih dahulu"
   ]
  },
  {
   "cell_type": "code",
   "execution_count": 9,
   "metadata": {},
   "outputs": [],
   "source": [
    "X_trainp=preprocessing(X_train)\n",
    "X_testp=preprocessing(X_test)"
   ]
  },
  {
   "cell_type": "markdown",
   "metadata": {},
   "source": [
    "Lalu, lakukan proses ekstraksi."
   ]
  },
  {
   "cell_type": "code",
   "execution_count": 10,
   "metadata": {},
   "outputs": [],
   "source": [
    "X_trainext=featureExtraction(X_trainp)\n",
    "X_testext=featureExtraction(X_testp)"
   ]
  },
  {
   "cell_type": "markdown",
   "metadata": {},
   "source": [
    "Tahap akhir adalah melakukan learning (fit) model / data train. Setelah melakukan learning, proses yang dilakukan adalah melakukan prediksi label, lalu muncullah akurasi sebagai ketepatan dari prediksi label tersebut dengan label yang sebenarnya."
   ]
  },
  {
   "cell_type": "code",
   "execution_count": 11,
   "metadata": {},
   "outputs": [
    {
     "name": "stdout",
     "output_type": "stream",
     "text": [
      "Akurasi : 58.5\n"
     ]
    }
   ],
   "source": [
    "clf = RandomForestClassifier(n_estimators=100, random_state=42)\n",
    "clf.fit(X_trainext, y_train)\n",
    "result = clf.predict(X_testext)\n",
    "print(\"Akurasi :\", accuracy_score(y_test, result) * 100)"
   ]
  }
 ],
 "metadata": {
  "kernelspec": {
   "display_name": "Python 3",
   "language": "python",
   "name": "python3"
  },
  "language_info": {
   "codemirror_mode": {
    "name": "ipython",
    "version": 3
   },
   "file_extension": ".py",
   "mimetype": "text/x-python",
   "name": "python",
   "nbconvert_exporter": "python",
   "pygments_lexer": "ipython3",
   "version": "3.7.1"
  }
 },
 "nbformat": 4,
 "nbformat_minor": 2
}
