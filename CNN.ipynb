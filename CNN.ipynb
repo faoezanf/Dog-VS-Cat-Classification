{
 "cells": [
  {
   "cell_type": "markdown",
   "metadata": {},
   "source": [
    "# Sistem Klasifikasi Anjing dan Kucing menggunakan Metode Deep Learning (CNN)"
   ]
  },
  {
   "cell_type": "markdown",
   "metadata": {},
   "source": [
    "Coded By : Fauzan Firdaus (1301164317) & Nur Azizah Agustina (1301164076)"
   ]
  },
  {
   "cell_type": "markdown",
   "metadata": {},
   "source": [
    "Pertama-tama, lakukan import terlebih dahulu untuk beberapa library yang akan digunakan."
   ]
  },
  {
   "cell_type": "code",
   "execution_count": 1,
   "metadata": {},
   "outputs": [],
   "source": [
    "import tensorflow as tf\n",
    "from tensorflow import keras\n",
    "import numpy as np\n",
    "import matplotlib.pyplot as plt\n",
    "import cv2\n",
    "import glob\n",
    "from sklearn.model_selection import train_test_split"
   ]
  },
  {
   "cell_type": "markdown",
   "metadata": {},
   "source": [
    "Definisikan fungsi 'load_image' untuk load dataset. Didalam fungsi dibawah ini sudah terjadi preprocessing yaitu meresize gambar menjadi gambar berukuran 128 x 128 piksel. Hal ini dilakukan dengan tujuan untuk mempercepat proses learning yang akan dilakukan."
   ]
  },
  {
   "cell_type": "code",
   "execution_count": 2,
   "metadata": {},
   "outputs": [],
   "source": [
    "def load_image(arr):\n",
    "    label=[]\n",
    "    for i in range(2):\n",
    "        for filename in glob.glob('Datasets/'+str(i+1)+'/*.jpg'):\n",
    "            im=cv2.imread(filename)[...,::-1]\n",
    "            im = cv2.resize(im, (128, 128), interpolation = cv2.INTER_AREA)\n",
    "            arr.append(im)\n",
    "            label.append(i)\n",
    "    return arr,label"
   ]
  },
  {
   "cell_type": "markdown",
   "metadata": {},
   "source": [
    "Lakukan load dataset terlebih dahulu."
   ]
  },
  {
   "cell_type": "code",
   "execution_count": 3,
   "metadata": {},
   "outputs": [],
   "source": [
    "data = []\n",
    "data, label = load_image(data)"
   ]
  },
  {
   "cell_type": "code",
   "execution_count": 4,
   "metadata": {},
   "outputs": [],
   "source": [
    "data = np.array(data) / 255"
   ]
  },
  {
   "cell_type": "markdown",
   "metadata": {},
   "source": [
    "Definisikan model deep learning CNN yang akan digunakan dalam proses learning / proses training."
   ]
  },
  {
   "cell_type": "code",
   "execution_count": 5,
   "metadata": {
    "scrolled": true
   },
   "outputs": [
    {
     "name": "stdout",
     "output_type": "stream",
     "text": [
      "WARNING:tensorflow:From /Users/faoezanf/anaconda3/lib/python3.7/site-packages/tensorflow/python/ops/resource_variable_ops.py:435: colocate_with (from tensorflow.python.framework.ops) is deprecated and will be removed in a future version.\n",
      "Instructions for updating:\n",
      "Colocations handled automatically by placer.\n",
      "_________________________________________________________________\n",
      "Layer (type)                 Output Shape              Param #   \n",
      "=================================================================\n",
      "conv2d (Conv2D)              (None, 126, 126, 128)     3584      \n",
      "_________________________________________________________________\n",
      "max_pooling2d (MaxPooling2D) (None, 63, 63, 128)       0         \n",
      "_________________________________________________________________\n",
      "conv2d_1 (Conv2D)            (None, 61, 61, 128)       147584    \n",
      "_________________________________________________________________\n",
      "max_pooling2d_1 (MaxPooling2 (None, 30, 30, 128)       0         \n",
      "_________________________________________________________________\n",
      "conv2d_2 (Conv2D)            (None, 28, 28, 128)       147584    \n",
      "_________________________________________________________________\n",
      "max_pooling2d_2 (MaxPooling2 (None, 14, 14, 128)       0         \n",
      "_________________________________________________________________\n",
      "flatten (Flatten)            (None, 25088)             0         \n",
      "_________________________________________________________________\n",
      "dense (Dense)                (None, 128)               3211392   \n",
      "_________________________________________________________________\n",
      "dense_1 (Dense)              (None, 12)                1548      \n",
      "=================================================================\n",
      "Total params: 3,511,692\n",
      "Trainable params: 3,511,692\n",
      "Non-trainable params: 0\n",
      "_________________________________________________________________\n"
     ]
    }
   ],
   "source": [
    "model = keras.Sequential([\n",
    "    keras.layers.Conv2D(128, 3, activation='relu', input_shape=(128,128,3)),\n",
    "    keras.layers.MaxPooling2D(),\n",
    "    keras.layers.Conv2D(128, 3, activation='relu'),\n",
    "    keras.layers.MaxPooling2D(),\n",
    "    keras.layers.Conv2D(128, 3, activation='relu'),\n",
    "    keras.layers.MaxPooling2D(),\n",
    "    keras.layers.Flatten(),\n",
    "    keras.layers.Dense(128, activation='relu'),\n",
    "    keras.layers.Dense(12, activation='softmax')\n",
    "])\n",
    "model.summary()"
   ]
  },
  {
   "cell_type": "markdown",
   "metadata": {},
   "source": [
    "Setelah model didefinisikan, model dikompilasi dan optimizer yang digunakan yaitu adam."
   ]
  },
  {
   "cell_type": "code",
   "execution_count": 6,
   "metadata": {},
   "outputs": [],
   "source": [
    "model.compile(loss='sparse_categorical_crossentropy', optimizer='adam', metrics=['accuracy'])"
   ]
  },
  {
   "cell_type": "markdown",
   "metadata": {},
   "source": [
    "Lakukan proses learning dengan epochs (jumlah learning) sebesar 50."
   ]
  },
  {
   "cell_type": "code",
   "execution_count": 7,
   "metadata": {},
   "outputs": [
    {
     "name": "stdout",
     "output_type": "stream",
     "text": [
      "Train on 1600 samples, validate on 400 samples\n",
      "Epoch 1/50\n",
      "1600/1600 [==============================] - 177s 110ms/sample - loss: 0.7787 - acc: 0.5663 - val_loss: 1.1539 - val_acc: 0.0000e+00\n",
      "Epoch 2/50\n",
      "1600/1600 [==============================] - 165s 103ms/sample - loss: 0.6720 - acc: 0.6106 - val_loss: 1.1180 - val_acc: 0.0000e+00\n",
      "Epoch 3/50\n",
      "1600/1600 [==============================] - 164s 103ms/sample - loss: 0.6548 - acc: 0.6100 - val_loss: 0.7731 - val_acc: 0.1375\n",
      "Epoch 4/50\n",
      "1600/1600 [==============================] - 164s 103ms/sample - loss: 0.6366 - acc: 0.6413 - val_loss: 0.9414 - val_acc: 0.3200\n",
      "Epoch 5/50\n",
      "1600/1600 [==============================] - 180s 112ms/sample - loss: 0.6118 - acc: 0.6725 - val_loss: 0.7496 - val_acc: 0.4225\n",
      "Epoch 6/50\n",
      "1600/1600 [==============================] - 180s 112ms/sample - loss: 0.5690 - acc: 0.7138 - val_loss: 0.6095 - val_acc: 0.7000\n",
      "Epoch 7/50\n",
      "1600/1600 [==============================] - 163s 102ms/sample - loss: 0.5115 - acc: 0.7600 - val_loss: 0.9242 - val_acc: 0.3600\n",
      "Epoch 8/50\n",
      "1600/1600 [==============================] - 164s 103ms/sample - loss: 0.4561 - acc: 0.7806 - val_loss: 0.6695 - val_acc: 0.6850\n",
      "Epoch 9/50\n",
      "1600/1600 [==============================] - 168s 105ms/sample - loss: 0.3806 - acc: 0.8363 - val_loss: 1.0486 - val_acc: 0.4825\n",
      "Epoch 10/50\n",
      "1600/1600 [==============================] - 165s 103ms/sample - loss: 0.3171 - acc: 0.8631 - val_loss: 0.6925 - val_acc: 0.7025\n",
      "Epoch 11/50\n",
      "1600/1600 [==============================] - 162s 101ms/sample - loss: 0.2616 - acc: 0.8844 - val_loss: 0.6951 - val_acc: 0.7450\n",
      "Epoch 12/50\n",
      "1600/1600 [==============================] - 163s 102ms/sample - loss: 0.2009 - acc: 0.9300 - val_loss: 0.9591 - val_acc: 0.6225\n",
      "Epoch 13/50\n",
      "1600/1600 [==============================] - 172s 108ms/sample - loss: 0.1347 - acc: 0.9450 - val_loss: 1.7565 - val_acc: 0.5300\n",
      "Epoch 14/50\n",
      "1600/1600 [==============================] - 165s 103ms/sample - loss: 0.1073 - acc: 0.9581 - val_loss: 1.2727 - val_acc: 0.6700\n",
      "Epoch 15/50\n",
      "1600/1600 [==============================] - 165s 103ms/sample - loss: 0.0847 - acc: 0.9737 - val_loss: 1.3882 - val_acc: 0.6725\n",
      "Epoch 16/50\n",
      "1600/1600 [==============================] - 165s 103ms/sample - loss: 0.0372 - acc: 0.9887 - val_loss: 1.8003 - val_acc: 0.6525\n",
      "Epoch 17/50\n",
      "1600/1600 [==============================] - 161s 101ms/sample - loss: 0.0257 - acc: 0.9919 - val_loss: 2.3489 - val_acc: 0.6050\n",
      "Epoch 18/50\n",
      "1600/1600 [==============================] - 163s 102ms/sample - loss: 0.0092 - acc: 0.9987 - val_loss: 2.6717 - val_acc: 0.5925\n",
      "Epoch 19/50\n",
      "1600/1600 [==============================] - 163s 102ms/sample - loss: 0.0042 - acc: 0.9994 - val_loss: 2.9355 - val_acc: 0.5875\n",
      "Epoch 20/50\n",
      "1600/1600 [==============================] - 166s 104ms/sample - loss: 0.0019 - acc: 1.0000 - val_loss: 2.2533 - val_acc: 0.6700\n",
      "Epoch 21/50\n",
      "1600/1600 [==============================] - 165s 103ms/sample - loss: 8.6336e-04 - acc: 1.0000 - val_loss: 2.5328 - val_acc: 0.6475\n",
      "Epoch 22/50\n",
      "1600/1600 [==============================] - 162s 101ms/sample - loss: 5.7923e-04 - acc: 1.0000 - val_loss: 2.7707 - val_acc: 0.6275\n",
      "Epoch 23/50\n",
      "1600/1600 [==============================] - 159s 100ms/sample - loss: 4.4005e-04 - acc: 1.0000 - val_loss: 2.8890 - val_acc: 0.6250\n",
      "Epoch 24/50\n",
      "1600/1600 [==============================] - 160s 100ms/sample - loss: 3.5664e-04 - acc: 1.0000 - val_loss: 2.9783 - val_acc: 0.6200\n",
      "Epoch 25/50\n",
      "1600/1600 [==============================] - 157s 98ms/sample - loss: 3.0231e-04 - acc: 1.0000 - val_loss: 2.8473 - val_acc: 0.6275\n",
      "Epoch 26/50\n",
      "1600/1600 [==============================] - 158s 99ms/sample - loss: 2.6052e-04 - acc: 1.0000 - val_loss: 2.9859 - val_acc: 0.6250\n",
      "Epoch 27/50\n",
      "1600/1600 [==============================] - 158s 99ms/sample - loss: 2.2351e-04 - acc: 1.0000 - val_loss: 2.9706 - val_acc: 0.6225\n",
      "Epoch 28/50\n",
      "1600/1600 [==============================] - 156s 98ms/sample - loss: 1.9663e-04 - acc: 1.0000 - val_loss: 3.0122 - val_acc: 0.6225\n",
      "Epoch 29/50\n",
      "1600/1600 [==============================] - 157s 98ms/sample - loss: 1.7547e-04 - acc: 1.0000 - val_loss: 2.9755 - val_acc: 0.6250\n",
      "Epoch 30/50\n",
      "1600/1600 [==============================] - 159s 100ms/sample - loss: 1.5965e-04 - acc: 1.0000 - val_loss: 3.0504 - val_acc: 0.6200\n",
      "Epoch 31/50\n",
      "1600/1600 [==============================] - 157s 98ms/sample - loss: 1.4198e-04 - acc: 1.0000 - val_loss: 3.0752 - val_acc: 0.6200\n",
      "Epoch 32/50\n",
      "1600/1600 [==============================] - 157s 98ms/sample - loss: 1.2905e-04 - acc: 1.0000 - val_loss: 3.1015 - val_acc: 0.6200\n",
      "Epoch 33/50\n",
      "1600/1600 [==============================] - 157s 98ms/sample - loss: 1.1809e-04 - acc: 1.0000 - val_loss: 3.1280 - val_acc: 0.6150\n",
      "Epoch 34/50\n",
      "1600/1600 [==============================] - 155s 97ms/sample - loss: 1.0900e-04 - acc: 1.0000 - val_loss: 3.1789 - val_acc: 0.6175\n",
      "Epoch 35/50\n",
      "1600/1600 [==============================] - 156s 97ms/sample - loss: 9.9730e-05 - acc: 1.0000 - val_loss: 3.1372 - val_acc: 0.6200\n",
      "Epoch 36/50\n",
      "1600/1600 [==============================] - 158s 99ms/sample - loss: 9.1773e-05 - acc: 1.0000 - val_loss: 3.1675 - val_acc: 0.6200\n",
      "Epoch 37/50\n",
      "1600/1600 [==============================] - 156s 98ms/sample - loss: 8.4925e-05 - acc: 1.0000 - val_loss: 3.1976 - val_acc: 0.6175\n",
      "Epoch 38/50\n",
      "1600/1600 [==============================] - 156s 97ms/sample - loss: 7.8522e-05 - acc: 1.0000 - val_loss: 3.1763 - val_acc: 0.6200\n",
      "Epoch 39/50\n",
      "1600/1600 [==============================] - 157s 98ms/sample - loss: 7.3809e-05 - acc: 1.0000 - val_loss: 3.2061 - val_acc: 0.6200\n",
      "Epoch 40/50\n",
      "1600/1600 [==============================] - 157s 98ms/sample - loss: 6.8336e-05 - acc: 1.0000 - val_loss: 3.2222 - val_acc: 0.6200\n",
      "Epoch 41/50\n",
      "1600/1600 [==============================] - 157s 98ms/sample - loss: 6.4608e-05 - acc: 1.0000 - val_loss: 3.2451 - val_acc: 0.6175\n",
      "Epoch 42/50\n",
      "1600/1600 [==============================] - 157s 98ms/sample - loss: 6.0129e-05 - acc: 1.0000 - val_loss: 3.2556 - val_acc: 0.6175\n",
      "Epoch 43/50\n",
      "1600/1600 [==============================] - 157s 98ms/sample - loss: 5.6332e-05 - acc: 1.0000 - val_loss: 3.2493 - val_acc: 0.6200\n",
      "Epoch 44/50\n",
      "1600/1600 [==============================] - 159s 99ms/sample - loss: 5.3519e-05 - acc: 1.0000 - val_loss: 3.2775 - val_acc: 0.6175\n",
      "Epoch 45/50\n",
      "1600/1600 [==============================] - 157s 98ms/sample - loss: 4.9899e-05 - acc: 1.0000 - val_loss: 3.2627 - val_acc: 0.6250\n",
      "Epoch 46/50\n",
      "1600/1600 [==============================] - 158s 99ms/sample - loss: 4.7200e-05 - acc: 1.0000 - val_loss: 3.2739 - val_acc: 0.6200\n",
      "Epoch 47/50\n",
      "1600/1600 [==============================] - 156s 98ms/sample - loss: 4.4566e-05 - acc: 1.0000 - val_loss: 3.2784 - val_acc: 0.6250\n",
      "Epoch 48/50\n",
      "1600/1600 [==============================] - 159s 99ms/sample - loss: 4.2050e-05 - acc: 1.0000 - val_loss: 3.2898 - val_acc: 0.6275\n",
      "Epoch 49/50\n",
      "1600/1600 [==============================] - 160s 100ms/sample - loss: 3.9589e-05 - acc: 1.0000 - val_loss: 3.3272 - val_acc: 0.6175\n",
      "Epoch 50/50\n",
      "1600/1600 [==============================] - 158s 99ms/sample - loss: 3.8021e-05 - acc: 1.0000 - val_loss: 3.3614 - val_acc: 0.6175\n"
     ]
    },
    {
     "data": {
      "text/plain": [
       "<tensorflow.python.keras.callbacks.History at 0x1a495d86d8>"
      ]
     },
     "execution_count": 7,
     "metadata": {},
     "output_type": "execute_result"
    }
   ],
   "source": [
    "model.fit(data, label, epochs=50, shuffle=True, validation_split=0.2)"
   ]
  },
  {
   "cell_type": "markdown",
   "metadata": {},
   "source": [
    "Hasil dari proses training tersebut didapatkan hasil prediksi, nilai loss dan akurasi dari model. Akurasi yang didapat dari proses training tersebut sebesar 92,35%."
   ]
  },
  {
   "cell_type": "code",
   "execution_count": 8,
   "metadata": {},
   "outputs": [
    {
     "name": "stdout",
     "output_type": "stream",
     "text": [
      "Test Loss: 0.6722994157490247\n",
      "Test Accuracy: 0.9235\n"
     ]
    }
   ],
   "source": [
    "loss, accuracy = model.evaluate(data, label, verbose=0)\n",
    "print('Test Loss:', loss)\n",
    "print('Test Accuracy:', accuracy)"
   ]
  }
 ],
 "metadata": {
  "kernelspec": {
   "display_name": "Python 3",
   "language": "python",
   "name": "python3"
  },
  "language_info": {
   "codemirror_mode": {
    "name": "ipython",
    "version": 3
   },
   "file_extension": ".py",
   "mimetype": "text/x-python",
   "name": "python",
   "nbconvert_exporter": "python",
   "pygments_lexer": "ipython3",
   "version": "3.7.1"
  }
 },
 "nbformat": 4,
 "nbformat_minor": 2
}
