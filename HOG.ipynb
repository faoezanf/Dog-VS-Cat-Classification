{
 "cells": [
  {
   "cell_type": "markdown",
   "metadata": {},
   "source": [
    "# Sistem Klasifikasi Anjing dan Kucing menggunakan Metode HOG"
   ]
  },
  {
   "cell_type": "markdown",
   "metadata": {},
   "source": [
    "Coded By : Fauzan Firdaus (1301164317) & Nur Azizah Agustina (1301164076)"
   ]
  },
  {
   "cell_type": "markdown",
   "metadata": {},
   "source": [
    "Pertama-tama, lakukan import terlebih dahulu untuk beberapa library yang akan digunakan."
   ]
  },
  {
   "cell_type": "code",
   "execution_count": 1,
   "metadata": {},
   "outputs": [],
   "source": [
    "import cv2\n",
    "import numpy as np\n",
    "import matplotlib.pyplot as plt\n",
    "import matplotlib\n",
    "\n",
    "from skimage.transform import resize\n",
    "from sklearn.model_selection import train_test_split\n",
    "from skimage.feature import hog\n",
    "from sklearn.ensemble import RandomForestClassifier\n",
    "from sklearn.metrics import accuracy_score\n",
    "import glob"
   ]
  },
  {
   "cell_type": "markdown",
   "metadata": {},
   "source": [
    "Definisikan fungsi 'extractHOG' untuk melakukan proses ekstraksi fitur dengan metode HOG."
   ]
  },
  {
   "cell_type": "code",
   "execution_count": 2,
   "metadata": {},
   "outputs": [],
   "source": [
    "def extractHOG(img):\n",
    "    ftr,_=hog(img, orientations=8, pixels_per_cell=(10, 10),\n",
    "            cells_per_block=(1, 1), visualize=True, multichannel=False)\n",
    "    return ftr"
   ]
  },
  {
   "cell_type": "markdown",
   "metadata": {},
   "source": [
    "Setelah itu, fungsi 'featureExtraction' dibawah ini berfungsi untuk melakukan proses ekstraksi fitur bentuk secara iteratif untuk semua gambar dalam array."
   ]
  },
  {
   "cell_type": "code",
   "execution_count": 3,
   "metadata": {},
   "outputs": [],
   "source": [
    "def featureExtraction(arr):\n",
    "    arr_feature=[]\n",
    "    for i in range(np.shape(arr)[0]):\n",
    "        arr_feature.append(extractHOG(arr[i]))\n",
    "    return arr_feature"
   ]
  },
  {
   "cell_type": "markdown",
   "metadata": {},
   "source": [
    "Fungsi selanjutnya adalah 'preprocessing' yang berfungsi untuk melakukan tahap preprocessing (membuat gambar menjadi abu-abu dan meresize gambar) agar proses komputasi lebih cepat."
   ]
  },
  {
   "cell_type": "code",
   "execution_count": 4,
   "metadata": {},
   "outputs": [],
   "source": [
    "def preprocessing(arr):\n",
    "    arr_prep=[]\n",
    "    for i in range(np.shape(arr)[0]):\n",
    "        img=cv2.cvtColor(arr[i], cv2.COLOR_BGR2GRAY)\n",
    "        img=resize(img, (72, 72),anti_aliasing=True)\n",
    "        arr_prep.append(img)\n",
    "    return arr_prep"
   ]
  },
  {
   "cell_type": "markdown",
   "metadata": {},
   "source": [
    "Fungsi yang terakhir adalah 'loadData' yang berfungsi untuk memuat semua gambar/dataset dan labelnya menjadi bentuk array yang berada dalam folder Datasets."
   ]
  },
  {
   "cell_type": "code",
   "execution_count": 5,
   "metadata": {},
   "outputs": [],
   "source": [
    "def loadData(arr,labelobject):\n",
    "    label=[]\n",
    "    strr = \"Datasets/\"+str(labelobject)+\"/*.jpg\"\n",
    "    for file in glob.glob(strr):\n",
    "        img=np.asarray(plt.imread(file))\n",
    "        arr.append(img)\n",
    "        label.append(labelobject)\n",
    "    return arr,label"
   ]
  },
  {
   "cell_type": "markdown",
   "metadata": {},
   "source": [
    "Lakukan proses load gambar dan labelnya"
   ]
  },
  {
   "cell_type": "code",
   "execution_count": 6,
   "metadata": {},
   "outputs": [],
   "source": [
    "cat=[]\n",
    "dog=[]\n",
    "\n",
    "cat,label_cat = loadData(cat,1)\n",
    "dog,label_dog = loadData(dog,2)"
   ]
  },
  {
   "cell_type": "markdown",
   "metadata": {},
   "source": [
    "Gabungkan semua dataset menjadi 1 array"
   ]
  },
  {
   "cell_type": "code",
   "execution_count": 7,
   "metadata": {},
   "outputs": [],
   "source": [
    "combineImage = np.concatenate((cat,dog))\n",
    "combineLabel = np.concatenate((label_cat,label_dog))"
   ]
  },
  {
   "cell_type": "markdown",
   "metadata": {},
   "source": [
    "Pecah dataset menjadi 2 bagian, yaitu data train dan data test. Hal ini dilakukan bertujuan dalam proses memvalidasi dataset."
   ]
  },
  {
   "cell_type": "code",
   "execution_count": 8,
   "metadata": {},
   "outputs": [],
   "source": [
    "X_train, X_test, y_train, y_test = train_test_split(combineImage, combineLabel, test_size=0.2, random_state=42)"
   ]
  },
  {
   "cell_type": "markdown",
   "metadata": {},
   "source": [
    "Lakukan preprocessing terlebih dahulu"
   ]
  },
  {
   "cell_type": "code",
   "execution_count": 9,
   "metadata": {},
   "outputs": [
    {
     "name": "stderr",
     "output_type": "stream",
     "text": [
      "/Users/faoezanf/anaconda3/lib/python3.7/site-packages/skimage/transform/_warps.py:105: UserWarning: The default mode, 'constant', will be changed to 'reflect' in skimage 0.15.\n",
      "  warn(\"The default mode, 'constant', will be changed to 'reflect' in \"\n"
     ]
    }
   ],
   "source": [
    "X_trainp=preprocessing(X_train)\n",
    "X_testp=preprocessing(X_test)"
   ]
  },
  {
   "cell_type": "markdown",
   "metadata": {},
   "source": [
    "Lalu, lakukan proses ekstraksi."
   ]
  },
  {
   "cell_type": "code",
   "execution_count": 10,
   "metadata": {},
   "outputs": [
    {
     "name": "stderr",
     "output_type": "stream",
     "text": [
      "/Users/faoezanf/anaconda3/lib/python3.7/site-packages/skimage/feature/_hog.py:150: skimage_deprecation: Default value of `block_norm`==`L1` is deprecated and will be changed to `L2-Hys` in v0.15. To supress this message specify explicitly the normalization method.\n",
      "  skimage_deprecation)\n"
     ]
    }
   ],
   "source": [
    "X_trainext=featureExtraction(X_trainp)\n",
    "X_testext=featureExtraction(X_testp)"
   ]
  },
  {
   "cell_type": "markdown",
   "metadata": {},
   "source": [
    "Tahap akhir adalah melakukan learning (fit) model / data train. Setelah melakukan learning, proses yang dilakukan adalah melakukan prediksi label, lalu muncullah akurasi sebagai ketepatan dari prediksi label tersebut dengan label yang sebenarnya."
   ]
  },
  {
   "cell_type": "code",
   "execution_count": 11,
   "metadata": {},
   "outputs": [
    {
     "name": "stdout",
     "output_type": "stream",
     "text": [
      "Akurasi HOG : 64.75\n"
     ]
    }
   ],
   "source": [
    "clf = RandomForestClassifier(n_estimators=100, random_state=42)\n",
    "clf.fit(X_trainext, y_train)\n",
    "result = clf.predict(X_testext)\n",
    "print(\"Akurasi HOG :\", accuracy_score(y_test, result) * 100)"
   ]
  }
 ],
 "metadata": {
  "kernelspec": {
   "display_name": "Python 3",
   "language": "python",
   "name": "python3"
  },
  "language_info": {
   "codemirror_mode": {
    "name": "ipython",
    "version": 3
   },
   "file_extension": ".py",
   "mimetype": "text/x-python",
   "name": "python",
   "nbconvert_exporter": "python",
   "pygments_lexer": "ipython3",
   "version": "3.7.1"
  }
 },
 "nbformat": 4,
 "nbformat_minor": 2
}
